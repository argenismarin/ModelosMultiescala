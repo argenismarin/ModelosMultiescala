{
 "cells": [
  {
   "cell_type": "markdown",
   "metadata": {},
   "source": [
    "# Clase Introducción a Python"
   ]
  },
  {
   "cell_type": "code",
   "execution_count": 2,
   "metadata": {},
   "outputs": [
    {
     "name": "stdout",
     "output_type": "stream",
     "text": [
      "Suma es  20.5\n",
      "Resta es  -0.5\n",
      "Multiplicacion es  -10.25\n",
      "Importando datos...\n",
      "   P   T\n",
      "0  1  25\n",
      "1  2  26\n",
      "2  3  27\n",
      "3  4  28\n"
     ]
    }
   ],
   "source": [
    "#Variables\n",
    "vble_str= \"texto 15\"\n",
    "type(vble_str)\n",
    "len(vble_str)\n",
    "\n",
    "vble_int= 10\n",
    "type(vble_int)\n",
    "\n",
    "vble_float= 10.5\n",
    "type(vble_float)\n",
    "\n",
    "vble_bool= True\n",
    "type(vble_bool)\n",
    "\n",
    "sumavbles= vble_int + vble_float\n",
    "print(\"Suma es \", sumavbles)\n",
    "\n",
    "restavbles= vble_int - vble_float\n",
    "print(\"Resta es \", restavbles)\n",
    "\n",
    "multip = sumavbles * restavbles\n",
    "print(\"Multiplicacion es \", multip)\n",
    "\n",
    "divis = sumavbles / restavbles\n",
    "print(\"Division es \", divis)\n",
    "\n",
    "#Importar datos\n",
    "print(\"Importando datos...\")\n",
    "import pandas as pd\n",
    "datos1 = pd.read_excel(\"datos1.xlsx\")\n",
    "print(datos1)"
   ]
  }
 ],
 "metadata": {
  "kernelspec": {
   "display_name": "Python 3",
   "language": "python",
   "name": "python3"
  },
  "language_info": {
   "codemirror_mode": {
    "name": "ipython",
    "version": 3
   },
   "file_extension": ".py",
   "mimetype": "text/x-python",
   "name": "python",
   "nbconvert_exporter": "python",
   "pygments_lexer": "ipython3",
   "version": "3.12.1"
  }
 },
 "nbformat": 4,
 "nbformat_minor": 2
}
